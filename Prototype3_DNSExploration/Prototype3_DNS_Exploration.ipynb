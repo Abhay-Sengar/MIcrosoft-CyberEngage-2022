{
  "nbformat": 4,
  "nbformat_minor": 0,
  "metadata": {
    "colab": {
      "name": "Prototype3_DNS_Exploration.ipynb",
      "provenance": []
    },
    "kernelspec": {
      "name": "python3",
      "display_name": "Python 3"
    },
    "language_info": {
      "name": "python"
    }
  },
  "cells": [
    {
      "cell_type": "code",
      "execution_count": null,
      "metadata": {
        "colab": {
          "base_uri": "https://localhost:8080/"
        },
        "id": "tkPrXogBaL7Z",
        "outputId": "d0e59a4a-0bb4-4bf4-dcc4-00e2d148bac4"
      },
      "outputs": [
        {
          "output_type": "stream",
          "name": "stdout",
          "text": [
            "Looking in indexes: https://pypi.org/simple, https://us-python.pkg.dev/colab-wheels/public/simple/\n",
            "Collecting scapy\n",
            "  Downloading scapy-2.4.5.tar.gz (1.1 MB)\n",
            "\u001b[K     |████████████████████████████████| 1.1 MB 5.0 MB/s \n",
            "\u001b[?25hBuilding wheels for collected packages: scapy\n",
            "  Building wheel for scapy (setup.py) ... \u001b[?25l\u001b[?25hdone\n",
            "  Created wheel for scapy: filename=scapy-2.4.5-py2.py3-none-any.whl size=1261555 sha256=fa2cf33c93dd6d257608fc48f73e5cf8dd1d9a3ac17cb6311916320994d216b3\n",
            "  Stored in directory: /root/.cache/pip/wheels/b9/6e/c0/0157e466a5e02d3ff28fc7587dff329b4a967a23b3f9b11385\n",
            "Successfully built scapy\n",
            "Installing collected packages: scapy\n",
            "Successfully installed scapy-2.4.5\n",
            "Looking in indexes: https://pypi.org/simple, https://us-python.pkg.dev/colab-wheels/public/simple/\n",
            "Collecting dnspython\n",
            "  Downloading dnspython-2.2.1-py3-none-any.whl (269 kB)\n",
            "\u001b[K     |████████████████████████████████| 269 kB 5.5 MB/s \n",
            "\u001b[?25hInstalling collected packages: dnspython\n",
            "Successfully installed dnspython-2.2.1\n"
          ]
        }
      ],
      "source": [
        "# Help from a lecture by Infosec as seen in Microsoft CyberEngage 2022  \n",
        "\n",
        "# =============================================================================\n",
        "\n",
        "# Install scapy as its not a default lib in Google Colab :\n",
        "# pip command starts with an '!' in Google Colab \n",
        "\n",
        "!pip install scapy\n",
        "!pip install dnspython\n",
        "\n",
        "# =============================================================================\n"
      ]
    },
    {
      "cell_type": "code",
      "source": [
        "import dns\n",
        "import dns.resolver\n",
        "import socket\n",
        "\n",
        "def ReverseDNS(ip):\n",
        "  try:\n",
        "    result = socket.gethostbyaddr(ip)\n",
        "  except:\n",
        "    return []\n",
        "  return [result[0]]+result[1]\n",
        "\n",
        "def DNSRequest(domain):\n",
        "  try:\n",
        "    result = dns.resolver.resolve(domain,'A')\n",
        "    if result:\n",
        "      print(domain)\n",
        "      for answer in result:\n",
        "        print(answer)\n",
        "        print(\"Domain Name : %s\"%ReverseDNS(answer.to_text()))\n",
        "  except(dns.resolver.NXDOMAIN,dns.exception.Timeout):\n",
        "    return\n",
        "\n",
        "def SubdomainSearch(domain,dictionary,nums):\n",
        "  for word in dictionary:\n",
        "    subdomain = word+\".\"+domain\n",
        "    DNSRequest(subdomain)\n",
        "    if nums:\n",
        "      for i in range(0,10):\n",
        "        s=word+str(i)+\".\"+domain\n",
        "        DNSRequest(s)\n",
        "\n",
        "domain = \"delhisldc.org\"\n",
        "d = \"subdomains.txt\"\n",
        "dictionary = []\n",
        "\n",
        "with open(d,\"r\") as f:\n",
        "  dictionary = f.read().splitlines()\n",
        "\n",
        "SubdomainSearch(domain,dictionary,True)"
      ],
      "metadata": {
        "colab": {
          "base_uri": "https://localhost:8080/"
        },
        "id": "-tIPK3cmaSo5",
        "outputId": "009ba24f-5c64-4ade-b660-e592b4508699"
      },
      "execution_count": null,
      "outputs": [
        {
          "output_type": "stream",
          "name": "stdout",
          "text": [
            "www.delhisldc.org\n",
            "220.156.188.110\n",
            "Domain Name : ['www.delhisldc.org']\n",
            "mail.delhisldc.org\n",
            "220.156.188.100\n",
            "Domain Name : ['mail.dcservices.in']\n",
            "ftp.delhisldc.org\n",
            "220.156.189.93\n",
            "Domain Name : ['mx.nsic.co.in']\n",
            "mx.delhisldc.org\n",
            "220.156.189.10\n",
            "Domain Name : ['mx.dcservices.in']\n"
          ]
        }
      ]
    }
  ]
}