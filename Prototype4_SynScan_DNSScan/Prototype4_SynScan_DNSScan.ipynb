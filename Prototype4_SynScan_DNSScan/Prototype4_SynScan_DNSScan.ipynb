{
  "nbformat": 4,
  "nbformat_minor": 0,
  "metadata": {
    "colab": {
      "name": "Prototype4_SynScan_DNSScan.ipynb",
      "provenance": [],
      "collapsed_sections": []
    },
    "kernelspec": {
      "name": "python3",
      "display_name": "Python 3"
    },
    "language_info": {
      "name": "python"
    }
  },
  "cells": [
    {
      "cell_type": "code",
      "execution_count": 1,
      "metadata": {
        "colab": {
          "base_uri": "https://localhost:8080/"
        },
        "id": "Dk7gYZo9Z3rJ",
        "outputId": "14fb8caf-1855-412e-8610-6720fdb5ef0b"
      },
      "outputs": [
        {
          "output_type": "stream",
          "name": "stdout",
          "text": [
            "Looking in indexes: https://pypi.org/simple, https://us-python.pkg.dev/colab-wheels/public/simple/\n",
            "Collecting scapy\n",
            "  Downloading scapy-2.4.5.tar.gz (1.1 MB)\n",
            "\u001b[K     |████████████████████████████████| 1.1 MB 27.7 MB/s \n",
            "\u001b[?25hBuilding wheels for collected packages: scapy\n",
            "  Building wheel for scapy (setup.py) ... \u001b[?25l\u001b[?25hdone\n",
            "  Created wheel for scapy: filename=scapy-2.4.5-py2.py3-none-any.whl size=1261555 sha256=10a0b26c889dbbcffabd9da9a542ab32591dfdd2bac7a5d4e32c7c608211ec24\n",
            "  Stored in directory: /root/.cache/pip/wheels/b9/6e/c0/0157e466a5e02d3ff28fc7587dff329b4a967a23b3f9b11385\n",
            "Successfully built scapy\n",
            "Installing collected packages: scapy\n",
            "Successfully installed scapy-2.4.5\n"
          ]
        }
      ],
      "source": [
        "# Help from a lecture by Infosec as seen in Microsoft CyberEngage 2022  \n",
        "\n",
        "# =============================================================================\n",
        "\n",
        "# Install scapy as its not a default lib in Google Colab :\n",
        "# pip command starts with an '!' in Google Colab \n",
        "\n",
        "!pip install scapy\n",
        "\n",
        "# =============================================================================\n"
      ]
    },
    {
      "cell_type": "code",
      "source": [
        "from scapy.all import *\n",
        "\n",
        "ports = [25,80,53,443,445,8080,8443]\n",
        "\n",
        "def SynScan(host):\n",
        "        ans,unans = sr(IP(dst=host)/TCP(sport=5555,dport=ports,flags=\"S\"),timeout=2,verbose=0)\n",
        "        print(\"Open ports at %s\"%host)\n",
        "        for (s,r,) in ans:\n",
        "                if s[TCP].dport == r[TCP].sport:\n",
        "                        print(s[TCP].dport)\n",
        "\n",
        "def DNSScan(host):\n",
        "        ans,unans = sr(IP(dst=host)/UDP(sport=5555,dport=53)/DNS(rd=1,qd=DNSQR(qname=\"delhisldc.org\")),timeout=2,verbose=0)\n",
        "        if ans:\n",
        "                print(\"DNS Server at %s\"%host)\n",
        "        else:\n",
        "                print(\"DNS Server NOT found at %s\"%host)\n",
        "\n",
        "host = \"220.156.188.100\"   # ftp.delhisldc.org\n",
        "\n",
        "print(\"Now doing a SynScan @ %s\"%host)\n",
        "SynScan(host)\n",
        "print()\n",
        "print(\"Now doing a DNSScan @ %s\"%host)\n",
        "DNSScan(host)\n"
      ],
      "metadata": {
        "colab": {
          "base_uri": "https://localhost:8080/"
        },
        "id": "X6Tt8WMXZ-ZE",
        "outputId": "b6a3caa7-759e-46a5-a4f0-761f9f8fc94d"
      },
      "execution_count": 9,
      "outputs": [
        {
          "output_type": "stream",
          "name": "stdout",
          "text": [
            "Now doing a SynScan @ 220.156.188.100\n",
            "Open ports at 220.156.188.100\n",
            "25\n",
            "443\n",
            "80\n",
            "\n",
            "Now doing a DNSScan @ 220.156.188.100\n",
            "DNS Server NOT found at 220.156.188.100\n"
          ]
        }
      ]
    }
  ]
}