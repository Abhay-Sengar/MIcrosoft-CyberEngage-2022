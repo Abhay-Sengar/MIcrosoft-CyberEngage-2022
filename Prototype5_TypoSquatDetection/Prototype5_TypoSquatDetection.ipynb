{
  "nbformat": 4,
  "nbformat_minor": 0,
  "metadata": {
    "colab": {
      "name": "Prototype5_TypoSquatDetection.ipynb",
      "provenance": []
    },
    "kernelspec": {
      "name": "python3",
      "display_name": "Python 3"
    },
    "language_info": {
      "name": "python"
    }
  },
  "cells": [
    {
      "cell_type": "code",
      "execution_count": 1,
      "metadata": {
        "id": "eVi0y7McYkMT",
        "colab": {
          "base_uri": "https://localhost:8080/"
        },
        "outputId": "843139f6-537f-4ec7-8383-016ab47226df"
      },
      "outputs": [
        {
          "output_type": "stream",
          "name": "stdout",
          "text": [
            "Looking in indexes: https://pypi.org/simple, https://us-python.pkg.dev/colab-wheels/public/simple/\n",
            "Collecting dnstwist\n",
            "  Downloading dnstwist-20220131-py3-none-any.whl (11 kB)\n",
            "Installing collected packages: dnstwist\n",
            "Successfully installed dnstwist-20220131\n"
          ]
        }
      ],
      "source": [
        "# Scenario: Typo-squat\n",
        "\n",
        "# Here the most common used DNS Name was was 'delhisldc.org'\n",
        "# Now we look up typosquats of this domain name using dnstwist\n",
        "# Now apache http logs were scanned to see if any automated service tried to connect to a typosquat or not\n",
        "\n",
        "# =============================================================================\n",
        "\n",
        "# Install dnstwist as its not a default lib in colab :\n",
        "\n",
        "!pip install dnstwist\n",
        "\n",
        "# ============================================================================="
      ]
    },
    {
      "cell_type": "code",
      "source": [
        "import pandas as pd\n",
        "import re\n",
        "import dnstwist"
      ],
      "metadata": {
        "id": "dWqqaoIGf4w8"
      },
      "execution_count": 2,
      "outputs": []
    },
    {
      "cell_type": "code",
      "source": [
        "ip=[]\n",
        "remote_log_name=[]\n",
        "userid=[]\n",
        "date=[]\n",
        "timezone=[]\n",
        "request_method=[]\n",
        "path=[]\n",
        "request_version=[]\n",
        "status=[]\n",
        "length=[]\n",
        "referrer=[]\n",
        "user_agent=[]\n",
        "\n",
        "def get_matches(filename):\n",
        "  with open(filename,'r') as f:\n",
        "    line = f.readline()\n",
        "    while line:\n",
        "      line = line.strip()\n",
        "      #print(line)\n",
        "      regex = r'(?P<ip>.*?) (?P<remote_log_name>.*?) (?P<userid>.*?) \\[(?P<date>.*?)(?= ) (?P<timezone>.*?)\\] \\\"(?P<request_method>.*?) (?P<path>.*?)(?P<request_version> HTTP/.*)?\\\" (?P<status>.*?) (?P<length>.*?) \\\"(?P<referrer>.*?)\\\" \\\"(?P<user_agent>.*?)\\\"'\n",
        "      matches = re.findall(regex, line)\n",
        "      ip.append(matches[0][0])\n",
        "      remote_log_name.append(matches[0][1])\n",
        "      userid.append(matches[0][2])\n",
        "      date.append(matches[0][3])\n",
        "      timezone.append(matches[0][4])\n",
        "      request_method.append(matches[0][5])\n",
        "      path.append(matches[0][6])\n",
        "      request_version.append(matches[0][7])\n",
        "      status.append(matches[0][8])\n",
        "      length.append(matches[0][9])\n",
        "      referrer.append(matches[0][10])\n",
        "      user_agent.append(matches[0][11])\n",
        "\n",
        "      line = f.readline()\n",
        "\n",
        "\n",
        "get_matches('apache_log_sample_edited.txt')"
      ],
      "metadata": {
        "id": "7EtbshxTcXXo"
      },
      "execution_count": 8,
      "outputs": []
    },
    {
      "cell_type": "code",
      "source": [
        "data = dnstwist.run(domain='delhisldc.org', registered=True, format='null')\n",
        "data_df = pd.DataFrame(data)\n",
        "lst=data_df[\"domain\"]\n",
        "\n",
        "print(lst)"
      ],
      "metadata": {
        "colab": {
          "base_uri": "https://localhost:8080/"
        },
        "id": "TfP0tu5XjtoC",
        "outputId": "6decacab-d8d7-439c-c435-64c7974a731f"
      },
      "execution_count": 4,
      "outputs": [
        {
          "output_type": "stream",
          "name": "stderr",
          "text": [
            "WARNING: DNS features are limited due to lack of DNSPython library\n"
          ]
        },
        {
          "output_type": "stream",
          "name": "stdout",
          "text": [
            "0     delhisldc.org\n",
            "1    delhisl.dc.org\n",
            "Name: domain, dtype: object\n"
          ]
        }
      ]
    },
    {
      "cell_type": "code",
      "source": [
        "for i in lst[1:]:\n",
        "  for j in referrer:\n",
        "    if i in j:\n",
        "      print(\"Suspicious: %s\"%i)"
      ],
      "metadata": {
        "id": "J09yEVfMrseC",
        "colab": {
          "base_uri": "https://localhost:8080/"
        },
        "outputId": "47d934df-0c43-4a25-856a-0d9962bfe363"
      },
      "execution_count": 10,
      "outputs": [
        {
          "output_type": "stream",
          "name": "stdout",
          "text": [
            "Suspicious: delhisl.dc.org\n"
          ]
        }
      ]
    }
  ]
}